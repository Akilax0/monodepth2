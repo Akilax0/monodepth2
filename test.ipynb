{
 "cells": [
  {
   "cell_type": "code",
   "execution_count": 1,
   "id": "5007549f",
   "metadata": {},
   "outputs": [],
   "source": [
    "from __future__ import absolute_import, division, print_function\n",
    "%matplotlib inline\n",
    "\n",
    "import os\n",
    "import numpy as np\n",
    "import PIL.Image as pil\n",
    "import matplotlib.pyplot as plt\n",
    "\n",
    "import torch\n",
    "from torchvision import transforms\n",
    "\n",
    "import networks\n",
    "from utils import download_model_if_doesnt_exist\n",
    "\n",
    "import cv2"
   ]
  },
  {
   "cell_type": "code",
   "execution_count": 2,
   "id": "567516c4",
   "metadata": {},
   "outputs": [
    {
     "name": "stderr",
     "output_type": "stream",
     "text": [
      "Clipping input data to the valid range for imshow with RGB data ([0..1] for floats or [0..255] for integers).\n"
     ]
    },
    {
     "name": "stdout",
     "output_type": "stream",
     "text": [
      "1590\n",
      "[[[ 9.9994683e-01  2.9041125e-03 -9.8931072e-03 -5.6773808e-04]\n",
      "  [-2.9138732e-03  9.9999529e-01 -9.7234524e-04  2.3351480e-04]\n",
      "  [ 9.8902369e-03  1.0011215e-03  9.9995059e-01 -9.8277004e-03]\n",
      "  [ 0.0000000e+00  0.0000000e+00  0.0000000e+00  1.0000000e+00]]\n",
      "\n",
      " [[ 9.9998093e-01  2.1547240e-03 -5.7835691e-03 -3.3563509e-04]\n",
      "  [-2.1546104e-03  9.9999768e-01  2.5872207e-05  1.4437223e-04]\n",
      "  [ 5.7836110e-03 -1.3393205e-05  9.9998325e-01 -1.0441179e-02]\n",
      "  [ 0.0000000e+00  0.0000000e+00  0.0000000e+00  1.0000000e+00]]\n",
      "\n",
      " [[ 9.9999422e-01  3.0507096e-03 -1.4972498e-03 -2.6669863e-04]\n",
      "  [-3.0485489e-03  9.9999434e-01  1.4486066e-03 -1.8709774e-06]\n",
      "  [ 1.5016440e-03 -1.4440510e-03  9.9999785e-01 -1.0723431e-02]\n",
      "  [ 0.0000000e+00  0.0000000e+00  0.0000000e+00  1.0000000e+00]]\n",
      "\n",
      " ...\n",
      "\n",
      " [[ 9.9993312e-01 -5.3180801e-04  1.1556978e-02  5.6991109e-04]\n",
      "  [ 4.7601588e-04  9.9998820e-01  4.8313271e-03  3.2196275e-04]\n",
      "  [-1.1559411e-02 -4.8255045e-03  9.9992156e-01 -2.8966691e-02]\n",
      "  [ 0.0000000e+00  0.0000000e+00  0.0000000e+00  1.0000000e+00]]\n",
      "\n",
      " [[ 9.9993557e-01 -1.2678528e-04  1.1348781e-02  6.0934626e-04]\n",
      "  [ 6.7829722e-05  9.9998653e-01  5.1948861e-03  2.7289352e-04]\n",
      "  [-1.1349286e-02 -5.1937816e-03  9.9992210e-01 -2.9618416e-02]\n",
      "  [ 0.0000000e+00  0.0000000e+00  0.0000000e+00  1.0000000e+00]]\n",
      "\n",
      " [[ 9.9993551e-01  2.2363886e-03  1.1137298e-02  4.6967098e-04]\n",
      "  [-2.2719745e-03  9.9999237e-01  3.1842727e-03  4.2815320e-04]\n",
      "  [-1.1130094e-02 -3.2093653e-03  9.9993294e-01 -3.0014455e-02]\n",
      "  [ 0.0000000e+00  0.0000000e+00  0.0000000e+00  1.0000000e+00]]]\n"
     ]
    },
    {
     "data": {
      "image/png": "[encoded data removed]",
      "text/plain": [
       "<Figure size 432x288 with 1 Axes>"
      ]
     },
     "metadata": {
      "needs_background": "light"
     },
     "output_type": "display_data"
    }
   ],
   "source": [
    "path = '../results/odom/mono_model/models/weights_19/poses.npy'\n",
    "\n",
    "data = np.load(path)\n",
    "print(len(data))\n",
    "print(data)\n",
    "\n",
    "plt.imshow(data)\n",
    "plt.show()"
   ]
  },
  {
   "cell_type": "code",
   "execution_count": 3,
   "id": "c17fc127",
   "metadata": {},
   "outputs": [
    {
     "name": "stdout",
     "output_type": "stream",
     "text": [
      "1.0\n"
     ]
    }
   ],
   "source": [
    "print(np.amax(data))"
   ]
  },
  {
   "cell_type": "code",
   "execution_count": 4,
   "id": "b5921407",
   "metadata": {},
   "outputs": [
    {
     "name": "stdout",
     "output_type": "stream",
     "text": [
      "-0.057829265\n"
     ]
    }
   ],
   "source": [
    "print(np.amin(data))"
   ]
  },
  {
   "cell_type": "code",
   "execution_count": 5,
   "id": "ce0ed836",
   "metadata": {},
   "outputs": [
    {
     "ename": "FileNotFoundError",
     "evalue": "[Errno 2] No such file or directory: './assets/depth_disp.jpeg'",
     "output_type": "error",
     "traceback": [
      "\u001b[0;31m--------------------------------------------------------------------------\u001b[0m",
      "\u001b[0;31mFileNotFoundError\u001b[0m                        Traceback (most recent call last)",
      "\u001b[0;32m<ipython-input-5-50eca2d595ea>\u001b[0m in \u001b[0;36m<module>\u001b[0;34m\u001b[0m\n\u001b[1;32m      6\u001b[0m \u001b[0;31m# load the image and convert into\u001b[0m\u001b[0;34m\u001b[0m\u001b[0;34m\u001b[0m\u001b[0m\n\u001b[1;32m      7\u001b[0m \u001b[0;31m# numpy array\u001b[0m\u001b[0;34m\u001b[0m\u001b[0;34m\u001b[0m\u001b[0m\n\u001b[0;32m----> 8\u001b[0;31m \u001b[0mimg\u001b[0m \u001b[0;34m=\u001b[0m \u001b[0mImage\u001b[0m\u001b[0;34m.\u001b[0m\u001b[0mopen\u001b[0m\u001b[0;34m(\u001b[0m\u001b[0;34m'./assets/depth_disp.jpeg'\u001b[0m\u001b[0;34m)\u001b[0m\u001b[0;34m\u001b[0m\u001b[0m\n\u001b[0m\u001b[1;32m      9\u001b[0m \u001b[0mnumpydata\u001b[0m \u001b[0;34m=\u001b[0m \u001b[0masarray\u001b[0m\u001b[0;34m(\u001b[0m\u001b[0mimg\u001b[0m\u001b[0;34m)\u001b[0m\u001b[0;34m\u001b[0m\u001b[0m\n\u001b[1;32m     10\u001b[0m \u001b[0;34m\u001b[0m\u001b[0m\n",
      "\u001b[0;32m~/.conda/envs/monodepth2/lib/python3.6/site-packages/PIL/Image.py\u001b[0m in \u001b[0;36mopen\u001b[0;34m(fp, mode)\u001b[0m\n\u001b[1;32m   2546\u001b[0m \u001b[0;34m\u001b[0m\u001b[0m\n\u001b[1;32m   2547\u001b[0m     \u001b[0;32mif\u001b[0m \u001b[0mfilename\u001b[0m\u001b[0;34m:\u001b[0m\u001b[0;34m\u001b[0m\u001b[0m\n\u001b[0;32m-> 2548\u001b[0;31m         \u001b[0mfp\u001b[0m \u001b[0;34m=\u001b[0m \u001b[0mbuiltins\u001b[0m\u001b[0;34m.\u001b[0m\u001b[0mopen\u001b[0m\u001b[0;34m(\u001b[0m\u001b[0mfilename\u001b[0m\u001b[0;34m,\u001b[0m \u001b[0;34m\"rb\"\u001b[0m\u001b[0;34m)\u001b[0m\u001b[0;34m\u001b[0m\u001b[0m\n\u001b[0m\u001b[1;32m   2549\u001b[0m         \u001b[0mexclusive_fp\u001b[0m \u001b[0;34m=\u001b[0m \u001b[0;32mTrue\u001b[0m\u001b[0;34m\u001b[0m\u001b[0m\n\u001b[1;32m   2550\u001b[0m \u001b[0;34m\u001b[0m\u001b[0m\n",
      "\u001b[0;31mFileNotFoundError\u001b[0m: [Errno 2] No such file or directory: './assets/depth_disp.jpeg'"
     ]
    }
   ],
   "source": [
    "# Import the necessary libraries\n",
    "from PIL import Image\n",
    "from numpy import asarray\n",
    "\n",
    "\n",
    "# load the image and convert into\n",
    "# numpy array\n",
    "img = Image.open('./assets/depth_disp.jpeg')\n",
    "numpydata = asarray(img)\n",
    "\n",
    "# data\n",
    "print(numpydata)\n"
   ]
  }
 ],
 "metadata": {
  "kernelspec": {
   "display_name": "Python 3",
   "language": "python",
   "name": "python3"
  },
  "language_info": {
   "codemirror_mode": {
    "name": "ipython",
    "version": 3
   },
   "file_extension": ".py",
   "mimetype": "text/x-python",
   "name": "python",
   "nbconvert_exporter": "python",
   "pygments_lexer": "ipython3",
   "version": "3.6.6"
  }
 },
 "nbformat": 4,
 "nbformat_minor": 5
}
