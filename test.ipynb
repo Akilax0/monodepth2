{
 "cells": [
  {
   "cell_type": "code",
   "execution_count": 1,
   "id": "5007549f",
   "metadata": {},
   "outputs": [],
   "source": [
    "from __future__ import absolute_import, division, print_function\n",
    "%matplotlib inline\n",
    "\n",
    "import os\n",
    "import numpy as np\n",
    "import PIL.Image as pil\n",
    "import matplotlib.pyplot as plt\n",
    "\n",
    "import torch\n",
    "from torchvision import transforms\n",
    "\n",
    "import networks\n",
    "from utils import download_model_if_doesnt_exist\n",
    "\n",
    "import cv2"
   ]
  },
  {
   "cell_type": "code",
   "execution_count": 4,
   "id": "567516c4",
   "metadata": {},
   "outputs": [
    {
     "name": "stdout",
     "output_type": "stream",
     "text": [
      "[[[[0.80548525 0.8026325  0.8022328  ... 0.6989275  0.69725275\n",
      "    0.7018425 ]\n",
      "   [0.7890751  0.7865116  0.7852649  ... 0.6914954  0.68955344\n",
      "    0.69420314]\n",
      "   [0.7926634  0.7888872  0.78822684 ... 0.6869364  0.6847798\n",
      "    0.6902782 ]\n",
      "   ...\n",
      "   [5.0181656  4.939097   4.935348   ... 5.1817255  5.176998\n",
      "    5.1927047 ]\n",
      "   [5.0583935  4.9826665  4.985914   ... 5.250618   5.250616\n",
      "    5.2678766 ]\n",
      "   [5.0975194  5.0353217  5.0374665  ... 5.305676   5.3068867\n",
      "    5.322694  ]]]]\n"
     ]
    }
   ],
   "source": [
    "path = './assets/depth_disp.npy'\n",
    "\n",
    "data = np.load(path)\n",
    "\n",
    "print(data)"
   ]
  },
  {
   "cell_type": "code",
   "execution_count": 6,
   "id": "c17fc127",
   "metadata": {},
   "outputs": [
    {
     "name": "stdout",
     "output_type": "stream",
     "text": [
      "5.322694\n"
     ]
    }
   ],
   "source": [
    "print(np.amax(data))"
   ]
  },
  {
   "cell_type": "code",
   "execution_count": 9,
   "id": "b5921407",
   "metadata": {},
   "outputs": [
    {
     "name": "stdout",
     "output_type": "stream",
     "text": [
      "0.27238566\n"
     ]
    }
   ],
   "source": [
    "print(np.amin(data))"
   ]
  },
  {
   "cell_type": "code",
   "execution_count": 8,
   "id": "ce0ed836",
   "metadata": {},
   "outputs": [
    {
     "name": "stdout",
     "output_type": "stream",
     "text": [
      "[[[ 25  16  59]\n",
      "  [ 25  16  61]\n",
      "  [ 25  16  61]\n",
      "  ...\n",
      "  [ 18  14  51]\n",
      "  [ 18  14  51]\n",
      "  [ 18  14  51]]\n",
      "\n",
      " [[ 25  16  61]\n",
      "  [ 25  16  61]\n",
      "  [ 25  16  61]\n",
      "  ...\n",
      "  [ 18  14  51]\n",
      "  [ 18  14  51]\n",
      "  [ 18  14  51]]\n",
      "\n",
      " [[ 25  16  63]\n",
      "  [ 25  16  63]\n",
      "  [ 25  16  63]\n",
      "  ...\n",
      "  [ 18  14  51]\n",
      "  [ 18  14  51]\n",
      "  [ 18  14  51]]\n",
      "\n",
      " ...\n",
      "\n",
      " [[251 252 192]\n",
      "  [251 252 192]\n",
      "  [251 252 192]\n",
      "  ...\n",
      "  [251 252 192]\n",
      "  [251 252 192]\n",
      "  [251 252 192]]\n",
      "\n",
      " [[251 252 192]\n",
      "  [251 252 192]\n",
      "  [251 252 192]\n",
      "  ...\n",
      "  [251 252 192]\n",
      "  [251 252 192]\n",
      "  [251 252 192]]\n",
      "\n",
      " [[251 252 192]\n",
      "  [251 252 192]\n",
      "  [251 252 192]\n",
      "  ...\n",
      "  [251 252 192]\n",
      "  [251 252 192]\n",
      "  [251 252 192]]]\n"
     ]
    }
   ],
   "source": [
    "# Import the necessary libraries\n",
    "from PIL import Image\n",
    "from numpy import asarray\n",
    "\n",
    "\n",
    "# load the image and convert into\n",
    "# numpy array\n",
    "img = Image.open('./assets/depth_disp.jpeg')\n",
    "numpydata = asarray(img)\n",
    "\n",
    "# data\n",
    "print(numpydata)\n"
   ]
  }
 ],
 "metadata": {
  "kernelspec": {
   "display_name": "Python 3",
   "language": "python",
   "name": "python3"
  },
  "language_info": {
   "codemirror_mode": {
    "name": "ipython",
    "version": 3
   },
   "file_extension": ".py",
   "mimetype": "text/x-python",
   "name": "python",
   "nbconvert_exporter": "python",
   "pygments_lexer": "ipython3",
   "version": "3.6.6"
  }
 },
 "nbformat": 4,
 "nbformat_minor": 5
}
